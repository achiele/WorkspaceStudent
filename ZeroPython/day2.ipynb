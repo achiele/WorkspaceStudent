{
 "metadata": {
  "language_info": {
   "codemirror_mode": {
    "name": "ipython",
    "version": 3
   },
   "file_extension": ".py",
   "mimetype": "text/x-python",
   "name": "python",
   "nbconvert_exporter": "python",
   "pygments_lexer": "ipython3",
   "version": "3.8.5-final"
  },
  "orig_nbformat": 2,
  "kernelspec": {
   "name": "python3",
   "display_name": "Python 3",
   "language": "python"
  }
 },
 "nbformat": 4,
 "nbformat_minor": 2,
 "cells": [
  {
   "cell_type": "code",
   "execution_count": 59,
   "metadata": {},
   "outputs": [
    {
     "output_type": "stream",
     "name": "stdout",
     "text": [
      "3\n"
     ]
    }
   ],
   "source": [
    "a = 1\n",
    "b = 2\n",
    "print (a+b)"
   ]
  },
  {
   "cell_type": "code",
   "execution_count": 60,
   "metadata": {},
   "outputs": [
    {
     "output_type": "stream",
     "name": "stdout",
     "text": [
      "Alex Chiele\n"
     ]
    }
   ],
   "source": [
    "a = 'Alex'\n",
    "b = 'Chiele'\n",
    "c = a + ' ' + b\n",
    "print(c)"
   ]
  },
  {
   "cell_type": "code",
   "execution_count": 1,
   "metadata": {},
   "outputs": [
    {
     "output_type": "stream",
     "name": "stdout",
     "text": [
      "-120 -133\n"
     ]
    }
   ],
   "source": [
    "def oposto(numeral_orig):\n",
    "    return -numeral_orig\n",
    "\n",
    "a = oposto(133)\n",
    "print(oposto(120),a)\n",
    "\n",
    "def oposto_sem_implem(teste):\n",
    "    pass\n"
   ]
  },
  {
   "cell_type": "code",
   "execution_count": 111,
   "metadata": {},
   "outputs": [
    {
     "output_type": "stream",
     "name": "stdout",
     "text": [
      "[10, 20, 30, 5, 88]\n[10, 20, 30, 5, 88]\n[10, 33, 20, 30, 5]\n"
     ]
    },
    {
     "output_type": "execute_result",
     "data": {
      "text/plain": [
       "[10, 33, 20, 30]"
      ]
     },
     "metadata": {},
     "execution_count": 111
    }
   ],
   "source": [
    "lista3 = [10,20,30,5]\n",
    "lista3 += 88,\n",
    "print(lista3)\n",
    "type(lista3)\n",
    "\n",
    "#lista3[2] = 77\n",
    "print(lista3)\n",
    "type(lista3)\n",
    "\n",
    "#lista3 = sorted(lista3)\n",
    "total = lista3.count(3)\n",
    "lista3.insert(1,33)\n",
    "lista3.pop()\n",
    "print(lista3)\n",
    "#print(total)\n",
    "type(lista3)\n",
    "\n",
    "#len(lista3)\n",
    "\n",
    "lista3[:-1]"
   ]
  },
  {
   "cell_type": "code",
   "execution_count": 72,
   "metadata": {},
   "outputs": [
    {
     "output_type": "stream",
     "name": "stdout",
     "text": [
      "10\n-10\n20\n-20\n30\n-30\n5\n-5\n88\n-88\n"
     ]
    }
   ],
   "source": [
    "for loop1 in lista3:\n",
    "    oposto3 = oposto(loop1)\n",
    "    print(loop1)\n",
    "    print(oposto3)"
   ]
  },
  {
   "cell_type": "code",
   "execution_count": 103,
   "metadata": {},
   "outputs": [
    {
     "output_type": "stream",
     "name": "stdout",
     "text": [
      "Alex Chiele Alex\nALEX CHIELE\nx\n \nC\nh\ni\ne\nl\ne\n"
     ]
    }
   ],
   "source": [
    "nome = \"Alex Chiele\"\n",
    "partenome = nome[0:4]\n",
    "print(nome,partenome)\n",
    "#nome.upper()\n",
    "print(nome.upper())\n",
    "\n",
    "for letra in nome[3:]:\n",
    "    print(letra)"
   ]
  },
  {
   "cell_type": "code",
   "execution_count": null,
   "metadata": {},
   "outputs": [],
   "source": []
  }
 ]
}