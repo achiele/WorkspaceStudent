{
 "metadata": {
  "language_info": {
   "codemirror_mode": {
    "name": "ipython",
    "version": 3
   },
   "file_extension": ".py",
   "mimetype": "text/x-python",
   "name": "python",
   "nbconvert_exporter": "python",
   "pygments_lexer": "ipython3",
   "version": "3.8.5-final"
  },
  "orig_nbformat": 2,
  "kernelspec": {
   "name": "python3",
   "display_name": "Python 3.8.5 64-bit",
   "metadata": {
    "interpreter": {
     "hash": "31f2aee4e71d21fbe5cf8b01ff0e069b9275f58929596ceb00d14d90e3e16cd6"
    }
   }
  }
 },
 "nbformat": 4,
 "nbformat_minor": 2,
 "cells": [
  {
   "cell_type": "code",
   "execution_count": null,
   "metadata": {},
   "outputs": [],
   "source": [
    "def heroi(balas,dragoes):\n",
    "    if balas >= 2*dragoes:\n",
    "        return True\n",
    "    else:\n",
    "        return False\n",
    "\n",
    "print(heroi(4,2))"
   ]
  },
  {
   "cell_type": "code",
   "execution_count": null,
   "metadata": {},
   "outputs": [],
   "source": [
    "#retornar o menor item da lista\n",
    "num2 = 2.44\n",
    "listatotal = [23,564,num2,33,77,2355,22,3]\n",
    "\n",
    "print(min(listatotal))\n",
    "\n",
    "print(sorted(listatotal)[0])"
   ]
  },
  {
   "cell_type": "code",
   "execution_count": null,
   "metadata": {},
   "outputs": [],
   "source": [
    "# Tuplas permitem desconstrução\n",
    "t1 = (3,6,9)\n",
    "\n",
    "primeiro, segundo, terceiro  = t1\n",
    "print(primeiro)\n",
    "print(segundo)\n",
    "print(terceiro)\n",
    "\n"
   ]
  },
  {
   "cell_type": "code",
   "execution_count": null,
   "metadata": {},
   "outputs": [],
   "source": [
    "#trocar de lugar os numeros usando tuplas\n",
    "a = 1\n",
    "b = 2\n",
    "\n",
    "(a, b) = (b, a)\n",
    "print(a)\n",
    "print(b)"
   ]
  },
  {
   "cell_type": "code",
   "execution_count": null,
   "metadata": {},
   "outputs": [],
   "source": [
    "# estrutura if else\n",
    "momento = 'dia'\n",
    "hora = 14\n",
    "\n",
    "if momento == 'dia' and hora<=12:\n",
    "    print(\"bom dia\")\n",
    "elif momento == 'tarde':\n",
    "    print(\"boa tarde\")\n",
    "else: \n",
    "    print(\"nao sei o momento\")"
   ]
  },
  {
   "cell_type": "code",
   "execution_count": null,
   "metadata": {},
   "outputs": [],
   "source": [
    "# estrutura randomica for usando elementos dinamicos \"f\"\n",
    "for elemento1 in range(5):\n",
    "    print(f'Elemento: {elemento1} vezes')"
   ]
  },
  {
   "cell_type": "code",
   "execution_count": 50,
   "metadata": {
    "tags": []
   },
   "outputs": [
    {
     "output_type": "stream",
     "name": "stdout",
     "text": [
      "passou: 1\npassou: 2\n2\n"
     ]
    }
   ],
   "source": [
    "for elementoaux in range(1,10):\n",
    "    #print(elementoaux)\n",
    "    print(f'passou: {elementoaux}')\n",
    "    if elementoaux%2 == 0:   # %2 retorna o resto da divisao\n",
    "        print(elementoaux) \n",
    "        break   # para o for no primeiro"
   ]
  },
  {
   "cell_type": "code",
   "execution_count": 55,
   "metadata": {},
   "outputs": [
    {
     "output_type": "stream",
     "name": "stdout",
     "text": [
      "21\n6\n"
     ]
    }
   ],
   "source": [
    "def multiplica_com_valor(a, b=2):\n",
    "    return a * b\n",
    "\n",
    "result = multiplica_com_valor(3,7)\n",
    "print(result)\n",
    "\n",
    "result2 = multiplica_com_valor(3)\n",
    "print(result2)\n"
   ]
  },
  {
   "cell_type": "code",
   "execution_count": 63,
   "metadata": {},
   "outputs": [
    {
     "output_type": "stream",
     "name": "stdout",
     "text": [
      "[30, 161]\n[8, 15]\n12\n35\n"
     ]
    },
    {
     "output_type": "execute_result",
     "data": {
      "text/plain": [
       "int"
      ]
     },
     "metadata": {},
     "execution_count": 63
    }
   ],
   "source": [
    "def multiplica_com_valor2(a, b=5):\n",
    "    soma = a + b\n",
    "    mult = a * b\n",
    "    return [soma, mult]\n",
    "\n",
    "result = multiplica_com_valor2(23,7)\n",
    "print(result)\n",
    "\n",
    "result2 = multiplica_com_valor2(3)\n",
    "print(result2)\n",
    "\n",
    "res01, res02 = multiplica_com_valor2(7)\n",
    "print(res01)\n",
    "print(res02)\n",
    "type(res01)"
   ]
  },
  {
   "cell_type": "code",
   "execution_count": 67,
   "metadata": {},
   "outputs": [
    {
     "output_type": "stream",
     "name": "stdout",
     "text": [
      "Python is fantastic\nPython is awesome\n"
     ]
    }
   ],
   "source": [
    "x = \"awesome\"\n",
    "\n",
    "def myfunc():\n",
    "  x = \"fantastic\"\n",
    "  print(\"Python is \" + x)\n",
    "\n",
    "myfunc()\n",
    "\n",
    "print(\"Python is \" + x)\n"
   ]
  },
  {
   "cell_type": "code",
   "execution_count": 69,
   "metadata": {},
   "outputs": [
    {
     "output_type": "stream",
     "name": "stdout",
     "text": [
      "Python is fantastic\nPython is fantastic\n"
     ]
    }
   ],
   "source": [
    "x = \"awesome\"\n",
    "\n",
    "def myfunc():\n",
    "  global x\n",
    "  x = \"fantastic\"\n",
    "  print(\"Python is \" + x)\n",
    "\n",
    "myfunc()\n",
    "\n",
    "print(\"Python is \" + x)"
   ]
  },
  {
   "cell_type": "code",
   "execution_count": 78,
   "metadata": {},
   "outputs": [
    {
     "output_type": "stream",
     "name": "stdout",
     "text": [
      "{'brand': 'Ford', 'model': 'Mustang', 'year': 1964}\nbrand\nmodel\nyear\nFord\n<class 'str'>\nMustang\n<class 'str'>\n1964\n<class 'int'>\n"
     ]
    }
   ],
   "source": [
    "thisdict = {\n",
    "  \"brand\": \"Ford\",\n",
    "  \"model\": \"Mustang\",\n",
    "  \"year\": 1964\n",
    "}\n",
    "print(thisdict)\n",
    "type(thisdict)\n",
    "\n",
    "for x in thisdict:\n",
    "  print(x)\n",
    "\n",
    "for x in thisdict.values():\n",
    "  print(x)\n",
    "  print(type(x))"
   ]
  },
  {
   "cell_type": "code",
   "execution_count": 79,
   "metadata": {},
   "outputs": [
    {
     "output_type": "stream",
     "name": "stdout",
     "text": [
      "15\n"
     ]
    }
   ],
   "source": [
    "x = lambda a : a + 10\n",
    "print(x(5))"
   ]
  },
  {
   "cell_type": "code",
   "execution_count": 84,
   "metadata": {},
   "outputs": [
    {
     "output_type": "stream",
     "name": "stdout",
     "text": [
      "22\n"
     ]
    }
   ],
   "source": [
    "def myfunc(n):\n",
    "  return lambda a : a * n\n",
    "\n",
    "mytripler = myfunc(2)\n",
    "\n",
    "print(mytripler(11))"
   ]
  },
  {
   "cell_type": "code",
   "execution_count": 85,
   "metadata": {},
   "outputs": [
    {
     "output_type": "stream",
     "name": "stdout",
     "text": [
      "22\n"
     ]
    }
   ],
   "source": [
    "def myfunc(a, n):\n",
    "  return a * n\n",
    "\n",
    "print(myfunc(2,11))"
   ]
  },
  {
   "cell_type": "code",
   "execution_count": null,
   "metadata": {},
   "outputs": [],
   "source": []
  }
 ]
}